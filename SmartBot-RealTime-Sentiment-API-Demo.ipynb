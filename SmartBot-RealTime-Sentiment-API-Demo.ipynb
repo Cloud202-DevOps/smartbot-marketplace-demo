{
 "cells": [
  {
   "cell_type": "markdown",
   "id": "e6a57c1b",
   "metadata": {},
   "source": [
    "# SmartBot Real-time Sentiment Analysis API Demo\n",
    "This notebook demonstrates how to invoke SmartBot’s SageMaker endpoint for real-time emotion-aware sentiment analysis."
   ]
  },
  {
   "cell_type": "code",
   "execution_count": null,
   "id": "071d2b94",
   "metadata": {},
   "outputs": [],
   "source": [
    "import boto3\n",
    "import json\n",
    "\n",
    "region = \"eu-west-2\"\n",
    "endpoint_name = \"smartbot-inference-ping-endpoint\"  # Replace with your deployed endpoint name\n",
    "\n",
    "runtime = boto3.client(\"sagemaker-runtime\", region_name=region)\n"
   ]
  },
  {
   "cell_type": "code",
   "execution_count": null,
   "id": "771b001d",
   "metadata": {},
   "outputs": [],
   "source": [
    "# Sample input data\n",
    "input_data = {\n",
    "    \"features\": [0.651, 0.782, 0.612, 0.944, 0.431, 0.498, 0.701]\n",
    "}\n"
   ]
  },
  {
   "cell_type": "code",
   "execution_count": null,
   "id": "6224d482",
   "metadata": {},
   "outputs": [],
   "source": [
    "# Invoke the SageMaker endpoint\n",
    "response = runtime.invoke_endpoint(\n",
    "    EndpointName=endpoint_name,\n",
    "    ContentType=\"application/json\",\n",
    "    Body=json.dumps(input_data)\n",
    ")\n"
   ]
  },
  {
   "cell_type": "code",
   "execution_count": null,
   "id": "0aae35ba",
   "metadata": {},
   "outputs": [],
   "source": [
    "# Parse and print the result\n",
    "result = json.loads(response[\"Body\"].read().decode())\n",
    "print(\"Prediction:\", result)\n"
   ]
  },
  {
   "cell_type": "markdown",
   "id": "21866ebb",
   "metadata": {},
   "source": [
    "### Output Example\n",
    "```json\n",
    "{\"prediction\": \"happy\"}\n",
    "```"
   ]
  }
 ],
 "metadata": {
  "instance_type": "ml.t3.medium",
  "kernelspec": {
   "display_name": "conda_python3",
   "language": "python",
   "name": "conda_python3"
  },
  "language_info": {
   "codemirror_mode": {
    "name": "ipython",
    "version": 3
   },
   "file_extension": ".py",
   "mimetype": "text/x-python",
   "name": "python",
   "nbconvert_exporter": "python",
   "pygments_lexer": "ipython3",
   "version": "3.6.13"
  }
 },
 "nbformat": 4,
 "nbformat_minor": 4
}
