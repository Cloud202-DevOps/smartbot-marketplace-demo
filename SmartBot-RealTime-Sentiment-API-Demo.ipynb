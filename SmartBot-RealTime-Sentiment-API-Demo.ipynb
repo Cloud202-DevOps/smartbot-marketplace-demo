# SmartBot-RealTime-Sentiment-API-Demo.ipynb

### Cell 1: Setup
```python
import boto3
import json

region = "eu-west-2"
endpoint_name = "smartbot-inference-ping-endpoint"  # Replace with your actual endpoint name

runtime = boto3.client("sagemaker-runtime", region_name=region)
```

### Cell 2: Sample Input
```python
input_data = {
    "features": [0.651, 0.782, 0.612, 0.944, 0.431, 0.498, 0.701]
}
```

### Cell 3: Invoke Endpoint
```python
response = runtime.invoke_endpoint(
    EndpointName=endpoint_name,
    ContentType="application/json",
    Body=json.dumps(input_data)
)
```

### Cell 4: Read and Print Result
```python
result = json.loads(response["Body"].read().decode())
print("Model Prediction:", result)
```

---

## 🧪 Example Output
```json
{"prediction": "happy"}
```

## 📝 Notes
- Replace `smartbot-inference-ping-endpoint` with your actual deployed SageMaker endpoint name.
- Make sure the input feature vector matches the format used during model training.
- You can run this notebook in any SageMaker Studio, local Jupyter, or hosted notebook environment with AWS access configured.
